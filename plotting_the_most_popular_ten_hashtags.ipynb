{
 "cells": [
  {
   "cell_type": "markdown",
   "metadata": {},
   "source": [
    "# Plotting most popular ten using matplotlib\n",
    "# Part 3:\n",
    "Right now we will use data from \"final_data_edchat.csv\" to plot out a chart\n",
    "\n",
    "Here we have three import\n"
   ]
  },
  {
   "cell_type": "code",
   "execution_count": null,
   "metadata": {},
   "outputs": [],
   "source": [
    "import csv\n",
    "\n",
    "import numpy as np\n",
    "import matplotlib.pyplot as plt"
   ]
  },
  {
   "cell_type": "markdown",
   "metadata": {},
   "source": [
    "### Here we open the file to read and plot it accordingly\n",
    "\n",
    "Numbers list is used to contain the number of ten Hashtag\n",
    "\n",
    "Titles list is used to contain the title of ten Hashtag\n",
    "\n",
    "We use a for loop to get content into this two list and plot it according to x axis & y axis\n",
    "\n",
    "plt.show() it gives us the graph we want"
   ]
  },
  {
   "cell_type": "code",
   "execution_count": null,
   "metadata": {},
   "outputs": [],
   "source": [
    "csvFile = open(\"final_data_edtech.csv\", 'r')\n",
    "csvreader = csv.reader(csvFile)\n",
    "\n",
    "Numbers = []\n",
    "Titles = []\n",
    "for i in csvreader:\n",
    "    Numbers.append(int(i[1]))\n",
    "    Titles.append(i[0])\n",
    "\n",
    "\n",
    "\n",
    "xs = [1,2,3,4,5,6,7,8,9,10]\n",
    "\n",
    "plt.barh(xs,Numbers)\n",
    "\n",
    "# tell pyplot which labels correspond to which x values\n",
    "plt.yticks(xs,Titles)\n",
    "\n",
    "plt.show()"
   ]
  }
 ],
 "metadata": {
  "kernelspec": {
   "display_name": "Python 3",
   "language": "python",
   "name": "python3"
  },
  "language_info": {
   "codemirror_mode": {
    "name": "ipython",
    "version": 3
   },
   "file_extension": ".py",
   "mimetype": "text/x-python",
   "name": "python",
   "nbconvert_exporter": "python",
   "pygments_lexer": "ipython3",
   "version": "3.7.3"
  }
 },
 "nbformat": 4,
 "nbformat_minor": 2
}

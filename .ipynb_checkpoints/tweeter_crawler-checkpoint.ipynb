{
 "cells": [
  {
   "cell_type": "markdown",
   "metadata": {},
   "source": [
    "# Python for twitter Crawler (With twitter API) - Spring 2019 Research Project\n",
    "    June 26, 2019\n",
    "    Author: Qiren(Eric) Feng\n",
    "    Title: setup connection with twitter and pull data out to a cvs file\n"
   ]
  },
  {
   "cell_type": "markdown",
   "metadata": {},
   "source": [
    "\n",
    "This part of commented code is for initial test of connection with twitter (It tries to find out if connection works)\n",
    "\n",
    "If you have wrong or empty credientials the connection will responses with Incorrect password Error\n",
    "\n",
    "Appling twitter API please go to https://developer.twitter.com/ and follow the steps\n"
   ]
  },
  {
   "cell_type": "code",
   "execution_count": null,
   "metadata": {},
   "outputs": [],
   "source": [
    "'''\n",
    "#Import the twitter API password & credientials\n",
    "import twitter_credentials\n",
    "\n",
    "#Import the necessary methods from tweepy library\n",
    "from tweepy.streaming import StreamListener\n",
    "from tweepy import OAuthHandler\n",
    "from tweepy import Stream\n",
    "\n",
    "#Variables that contains the user credentials to access Twitter API \n",
    "access_token = twitter_credentials.ACCESS_TOKEN\n",
    "access_token_secret = twitter_credentials.ACCESS_TOKEN_SECRET\n",
    "consumer_key = twitter_credentials.CONSUMER_KEY\n",
    "consumer_secret = twitter_credentials.CONSUMER_SECRET\n",
    "\n",
    "\n",
    "#This is a basic listener that just prints received tweets to stdout.\n",
    "class StdOutListener(StreamListener):\n",
    "\n",
    "    def on_data(self, data):\n",
    "        print(data)\n",
    "        return True\n",
    "\n",
    "    def on_error(self, status):\n",
    "        print(status)\n",
    "\n",
    "\n",
    "if __name__ == '__main__':\n",
    "\n",
    "    #This handles Twitter authetification and the connection to Twitter Streaming API\n",
    "    l = StdOutListener()\n",
    "    auth = OAuthHandler(consumer_key, consumer_secret)\n",
    "    auth.set_access_token(access_token, access_token_secret)\n",
    "    stream = Stream(auth, l)\n",
    "\n",
    "    #This line filter Twitter Streams to capture data by the keywords: 'python', 'javascript', 'ruby'\n",
    "    stream.filter(track=['python', 'javascript', 'ruby'])\n",
    "'''"
   ]
  },
  {
   "cell_type": "markdown",
   "metadata": {},
   "source": [
    "\n",
    "#### This is the part that import necessary methods from tweepy library and Twitter API password & credentials\n"
   ]
  },
  {
   "cell_type": "code",
   "execution_count": null,
   "metadata": {},
   "outputs": [],
   "source": [
    "import twitter_credentials\n",
    "import csv\n",
    "import tweepy\n",
    "import unicodedata"
   ]
  },
  {
   "cell_type": "markdown",
   "metadata": {},
   "source": [
    "\n",
    "#### It takes credentials saved in twitter_credentials.py file and save it to local variable\n"
   ]
  },
  {
   "cell_type": "code",
   "execution_count": null,
   "metadata": {},
   "outputs": [],
   "source": [
    "access_token = twitter_credentials.ACCESS_TOKEN\n",
    "access_token_secret = twitter_credentials.ACCESS_TOKEN_SECRET\n",
    "consumer_key = twitter_credentials.CONSUMER_KEY\n",
    "consumer_secret = twitter_credentials.CONSUMER_SECRET"
   ]
  },
  {
   "cell_type": "markdown",
   "metadata": {},
   "source": [
    "\n",
    "#### It setup credentials(passwords) to tweepy.OAuthHandler and save it as auth variable\n",
    "\n",
    "This auth variable is the key to access Twitter\n"
   ]
  },
  {
   "cell_type": "code",
   "execution_count": null,
   "metadata": {},
   "outputs": [],
   "source": [
    "auth = tweepy.OAuthHandler(consumer_key, consumer_secret)\n",
    "auth.set_access_token(access_token, access_token_secret)"
   ]
  },
  {
   "cell_type": "markdown",
   "metadata": {},
   "source": [
    "\n",
    "### Here it happens the main functionality \n",
    "\n",
    "We use the previous auth and tweepy.API to connect with Twitter Data base\n",
    "\n",
    "And setup a empty dictionary (if you are not familiar with dictionary please google \"Python dictionary\")\n"
   ]
  },
  {
   "cell_type": "code",
   "execution_count": null,
   "metadata": {},
   "outputs": [],
   "source": [
    "#This handles Twitter authetification and the connection to Twitter Streaming API\n",
    "api = tweepy.API(auth)\n",
    "diction = {}\n"
   ]
  },
  {
   "cell_type": "markdown",
   "metadata": {},
   "source": [
    "If you have a edchat.csv file and want to store previous data please uncomment this part. \n",
    "\n",
    "Directly use 'w'(write) would overwrite the entire file and all Data store before will be lost\n"
   ]
  },
  {
   "cell_type": "code",
   "execution_count": null,
   "metadata": {},
   "outputs": [],
   "source": [
    "'''\n",
    "csvFile = open('edchat.csv', 'r')\n",
    "previous_file_list = []\n",
    "for item in csv.reader(csvFile):\n",
    "    previous_file_list.append(item)\n",
    "csvFile.close()\n",
    "'''\n"
   ]
  },
  {
   "cell_type": "markdown",
   "metadata": {},
   "source": [
    "\n",
    "Here we opens(or create) a new file using open function and 'w' inside\n",
    "\n",
    "Withe a for loop and tweepy.Cursor(if interested please look it up on tweepy documentary --> google tweepy library)\n",
    "\n",
    "    q ==> query\n",
    "    tweet_mode ==> 'extended' gives the entire post otherwise it will give out brief version\n",
    "    truncated ==> set to False since we do not want truncated post\n",
    "    lang ==> language set to \"en\" which is English\n",
    "    count ==> word count\n",
    "    items ==> the amount of Data we want to pull out(more than 10000 could cause \"too many query Error\" from Twitter)\n",
    "   \n",
    "We use try and except since tweet could be encoding in different format and we want to extract context accordingly\n",
    "    Some in UTF-8 (defined by United Nations)\n",
    "    Some in US-ASCII (defined by United States)\n",
    "    Some in other formats but mostly in previous methods\n",
    "    "
   ]
  },
  {
   "cell_type": "code",
   "execution_count": null,
   "metadata": {},
   "outputs": [],
   "source": [
    "csvFile = open('edtech.csv', 'w')\n",
    "csvWriter = csv.writer(csvFile)\n",
    "count = 0\n",
    "for tweet in tweepy.Cursor(api.search,\n",
    "                           q=\"#edtech\",\n",
    "                           tweet_mode = 'extended',\n",
    "                           truncated = False,\n",
    "                           lang = \"en\",\n",
    "                           count = 200).items(10000):\n",
    "\n",
    "    count += 1\n",
    "    try:\n",
    "        csvWriter.writerow([tweet.created_at, tweet.full_text])\n",
    "    except UnicodeEncodeError:\n",
    "        csvWriter.writerow([tweet.created_at, tweet.full_text.encode('utf-8')])\n",
    "        "
   ]
  },
  {
   "cell_type": "markdown",
   "metadata": {},
   "source": [
    "\n",
    "If you uncomment previous code please uncomment this part to write Old edtech.csv Data (which is saved in previous_file_list) into the new edtech.csv(overwrited) file\n"
   ]
  },
  {
   "cell_type": "code",
   "execution_count": null,
   "metadata": {},
   "outputs": [],
   "source": [
    "'''\n",
    "for item in previous_file_list:\n",
    "    csvWriter.writerow(item)\n",
    "csvFile.close()\n",
    "'''"
   ]
  }
 ],
 "metadata": {
  "kernelspec": {
   "display_name": "Python 3",
   "language": "python",
   "name": "python3"
  },
  "language_info": {
   "codemirror_mode": {
    "name": "ipython",
    "version": 3
   },
   "file_extension": ".py",
   "mimetype": "text/x-python",
   "name": "python",
   "nbconvert_exporter": "python",
   "pygments_lexer": "ipython3",
   "version": "3.7.3"
  }
 },
 "nbformat": 4,
 "nbformat_minor": 2
}

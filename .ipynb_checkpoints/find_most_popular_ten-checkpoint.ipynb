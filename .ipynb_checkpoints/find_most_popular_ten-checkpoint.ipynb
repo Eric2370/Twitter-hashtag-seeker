{
 "cells": [
  {
   "cell_type": "markdown",
   "metadata": {},
   "source": [
    "# Part 2: pull Data out from edchat.csv and write the most popular ten to final_data_edchat.csv file\n",
    "\n",
    "Fort this part, we will use previous collected 10000 twitter post from \"edchat.csv\" and filter them out to ten most popular Hashtags that would related to edchat. \n",
    "\n",
    "We would write that data into \"final_data_edchat.csv\" file for future plotting\n"
   ]
  },
  {
   "cell_type": "code",
   "execution_count": null,
   "metadata": {},
   "outputs": [],
   "source": [
    "import csv\n",
    "\n",
    "ascii_letters = 'abcdefghijklmnopqrstuvwxyzABCDEFGHIJKLMNOPQRSTUVWXYZ0123456789'\n",
    "\n",
    "dictionary = {}\n",
    "csvFile = open(\"edchat.csv\", 'r')\n",
    "csvreader = csv.reader(csvFile)\n"
   ]
  },
  {
   "cell_type": "markdown",
   "metadata": {},
   "source": [
    "### Here is the algorithm that finds out the most popular ten Hashtags\n",
    "\n",
    "Well, try to understand it(please take your time on it, I could not really be much of help at this point)\n",
    "\n",
    "Read csv file before going throught this algorithm would help a lot \n"
   ]
  },
  {
   "cell_type": "code",
   "execution_count": null,
   "metadata": {},
   "outputs": [],
   "source": [
    "count = 0\n",
    "boolean = False\n",
    "for row in csvreader:\n",
    "    count += 1\n",
    "    word = ''\n",
    "    for item in row[1]:\n",
    "        #ascii_letters here is defined above please check on it\n",
    "        if item not in ascii_letters and boolean == True:\n",
    "            if word.lower() in dictionary:\n",
    "                dictionary[word.lower()] += 1\n",
    "            else:\n",
    "                dictionary[word.lower()] = 1\n",
    "            boolean = False\n",
    "            word = ''\n",
    "        if item == '#':\n",
    "            boolean = True\n",
    "        if boolean == True:\n",
    "            word += item\n"
   ]
  },
  {
   "cell_type": "markdown",
   "metadata": {},
   "source": [
    "\n",
    "### Here I delete some element that did not make any sense\n",
    "    \n",
    "I think there is a special case that I could not think of, but at this point I could not figure that out\n",
    "\n",
    "So if you see any element inside dictionary that did not make any sense please just delete it with 'del'\n",
    "\n",
    "Here I print out count and set the main element dictionary['#edchat'] to the count number\n",
    "\n"
   ]
  },
  {
   "cell_type": "code",
   "execution_count": null,
   "metadata": {},
   "outputs": [],
   "source": [
    "dictionary['#edchat'] = count\n",
    "print(count)\n",
    "#del dictionary['#']\n",
    "#del dictionary['b']\n",
    "#del dictionary['rt']"
   ]
  },
  {
   "cell_type": "markdown",
   "metadata": {},
   "source": [
    "### Here I have sorted funciton to sort dictionary into list according to their apparence inside posts\n",
    "\n",
    "Yes, after sort dictionary turns to list but this is not always the case, It could only happens by using sorted function, other functions might not give out same result, so please read documentation and google example before doing coding that you did not do before\n",
    "\n",
    "The lambda here is used to sort list, This is a concept that takes me a few days to understand. I would recommand anyone who interested in this they could go to python document and find defination and google some example to get familiar with it(http://book.pythontips.com/en/latest/lambdas.html -> examples and explanation, https://docs.python.org/3/reference/expressions.html -> formal explanation)\n",
    "\n",
    "Here I have \"with open\", that is another way we could use to open a file, remember to close file when we done with it"
   ]
  },
  {
   "cell_type": "code",
   "execution_count": null,
   "metadata": {},
   "outputs": [],
   "source": [
    "sorted_x = sorted(dictionary.items(), key=lambda kv: kv[1])\n",
    "\n",
    "with open('final_data_edchat.csv', 'w') as csvFile:\n",
    "    writer = csv.writer(csvFile)\n",
    "    writer.writerows(sorted_x[-10:])\n",
    "csvFile.close()"
   ]
  }
 ],
 "metadata": {
  "kernelspec": {
   "display_name": "Python 3",
   "language": "python",
   "name": "python3"
  },
  "language_info": {
   "codemirror_mode": {
    "name": "ipython",
    "version": 3
   },
   "file_extension": ".py",
   "mimetype": "text/x-python",
   "name": "python",
   "nbconvert_exporter": "python",
   "pygments_lexer": "ipython3",
   "version": "3.7.3"
  }
 },
 "nbformat": 4,
 "nbformat_minor": 2
}
